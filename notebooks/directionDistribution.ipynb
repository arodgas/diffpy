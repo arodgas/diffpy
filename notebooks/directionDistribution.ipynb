{
 "cells": [
  {
   "cell_type": "code",
   "execution_count": 493,
   "id": "0db8b9df",
   "metadata": {},
   "outputs": [],
   "source": [
    "import sys\n",
    "import os\n",
    "sys.path.insert(0, os.path.abspath('..\\\\diffpy'))\n",
    "import numpy as np\n",
    "import matplotlib.pyplot as plt\n",
    "from features import *\n",
    "import pandas as pd\n",
    "import trajectories as traj\n",
    "import msds as msds\n",
    "from scipy.stats import uniform\n",
    "from scipy import stats"
   ]
  },
  {
   "cell_type": "code",
   "execution_count": 495,
   "id": "5039e3d3",
   "metadata": {},
   "outputs": [],
   "source": [
    "xs, ys = traj.walks2D(steps=5000, N=4, circles=(0.2, 10), masked=True)\n",
    "#Ms, Gs = msds.trajsMSD(xs, ys)\n",
    "#dt = 0.1"
   ]
  },
  {
   "cell_type": "code",
   "execution_count": 527,
   "id": "a7aa809f",
   "metadata": {},
   "outputs": [],
   "source": [
    "def dirDist(x, y):\n",
    "    # Quantifies whether the distribution in changes in direction\n",
    "    # deviates from that of a uniform distribution. Uses the kurtosis\n",
    "    # of the qq plot. ~1.6 for random diffusion, can get as high as 6\n",
    "    # for circle swimmers. Can catch directed motion as well, but\n",
    "    # much weaker. \n",
    "    # Rotate traj to align major axis\n",
    "    # Not necessary anymore, as based off of differences\n",
    "    # a123, eigs, vecs, K = asym(x, y)\n",
    "    # Rmtx = np.array([[vecs[0,0], -vecs[1,0]],[vecs[1,0], vecs[0,0]]])\n",
    "\n",
    "    # xi, yi = x - np.average(x), y - np.average(y)\n",
    "    # xy = np.concatenate((xi.reshape((-1,1)), yi.reshape((-1,1))), axis=1)\n",
    "    # xy_r = np.matmul(xy, Rmtx)\n",
    "    xy = np.concatenate((x.reshape((-1,1)), y.reshape((-1,1))), axis=1)\n",
    "    dxy = np.diff(xy, axis=0)\n",
    "    \n",
    "    dist = np.linalg.norm(dxy, axis=1)\n",
    "    \n",
    "    thetas = np.arctan2(dxy[:,1], dxy[:,0])\n",
    "    thetas = np.diff(thetas, axis=0)\n",
    "    thetas[thetas > np.pi] = thetas[thetas > np.pi] - 2*np.pi\n",
    "    thetas[thetas < -np.pi] = thetas[thetas < -np.pi] + 2*np.pi\n",
    "    \n",
    "#     qis = np.arange(0.005, 1, 0.005)\n",
    "#     qs = np.percentile(thetas, qis*100)\n",
    "#     qsUni = uniform.ppf(qis, loc=-np.pi/2, scale=np.pi)\n",
    "#     n = qis.shape[0]\n",
    "#     std = np.std(thetas, ddof=1)\n",
    "#     stdUni = uniform.std(loc=-np.pi, scale=2*np.pi)\n",
    "    \n",
    "#     return np.sum((qs/std)**4/n) - np.sum((qsUni/stdUni)**4/n)\n",
    "    th_m1, th_m2, th_m3, th_m4 = np.nanmean(thetas), np.nanstd(thetas, ddof=1), stats.skew(thetas, nan_policy='omit'), stats.kurtosis(thetas, nan_policy='omit')\n",
    "    d_m1, d_m2, d_m3, d_m4 = np.nanmean(dist), np.nanstd(dist, ddof=1), stats.skew(dist, nan_policy='omit'), stats.kurtosis(dist, nan_policy='omit')\n",
    "    return th_m1, th_m2, th_m3, th_m4, d_m1, d_m2, d_m3, d_m4"
   ]
  },
  {
   "cell_type": "code",
   "execution_count": 530,
   "id": "308bdf68",
   "metadata": {},
   "outputs": [],
   "source": [
    "def dirDists(xs, ys):\n",
    "    steps, N = xs.shape\n",
    "    xy = np.concatenate((xs.reshape((steps,N,1)), ys.reshape((steps,N,1))), axis=2)\n",
    "    dxy = np.diff(xy, axis=0)\n",
    "    \n",
    "    dist = np.linalg.norm(dxy, axis=2)\n",
    "\n",
    "    thetas = np.arctan2(dxy[:,:,1], dxy[:,:,0])\n",
    "    thetas = np.diff(thetas, axis=0)\n",
    "    thetas[thetas > np.pi] = thetas[thetas > np.pi] - 2*np.pi\n",
    "    thetas[thetas < -np.pi] = thetas[thetas < -np.pi] + 2*np.pi\n",
    "\n",
    "#     qis = np.arange(0.005, 1, 0.005)\n",
    "#     qs = np.percentile(thetas, qis*100, axis=0)\n",
    "#     qsUni = uniform.ppf(qis, loc=-np.pi/2, scale=np.pi)\n",
    "#     n = qis.shape[0]\n",
    "#     std = np.std(thetas, ddof=1, axis=0)\n",
    "#     stdUni = uniform.std(loc=-np.pi, scale=2*np.pi)\n",
    "    th_m1, th_m2, th_m3, th_m4 = np.nanmean(thetas, axis=0), np.nanstd(thetas, ddof=1, axis=0), stats.skew(thetas, axis=0, nan_policy='omit'), stats.kurtosis(thetas, axis=0, nan_policy='omit')\n",
    "    d_m1, d_m2, d_m3, d_m4 = np.nanmean(dist, axis=0), np.nanstd(dist, ddof=1, axis=0), stats.skew(dist, axis=0, nan_policy='omit'), stats.kurtosis(dist, axis=0, nan_policy='omit')\n",
    "    return th_m1, th_m2, th_m3.data, th_m4.data, d_m1, d_m2, d_m3.data, d_m4.data"
   ]
  },
  {
   "cell_type": "code",
   "execution_count": 531,
   "id": "a68834c6",
   "metadata": {},
   "outputs": [
    {
     "data": {
      "text/plain": [
       "(array([0.19686311, 0.18131561, 0.17943906, 0.1877813 ]),\n",
       " array([0.86260217, 0.85517692, 0.86179372, 0.86750977]),\n",
       " array([-0.13196714, -0.20243584, -0.24545898, -0.13795455]),\n",
       " array([0.96023991, 1.20024366, 1.32383778, 0.97923452]),\n",
       " array([2.2698757 , 2.26967188, 2.28708344, 2.26994938]),\n",
       " array([0.90273821, 0.91584178, 0.93092134, 0.9331328 ]),\n",
       " array([0.20220092, 0.22503167, 0.17121521, 0.16609323]),\n",
       " array([-0.12332061, -0.21668117, -0.29834516, -0.29323065]))"
      ]
     },
     "execution_count": 531,
     "metadata": {},
     "output_type": "execute_result"
    }
   ],
   "source": [
    "dirDists(xs, ys)"
   ]
  },
  {
   "cell_type": "code",
   "execution_count": 472,
   "id": "9d37104a",
   "metadata": {},
   "outputs": [
    {
     "data": {
      "text/plain": [
       "array([-0.05730638, -0.07976718, -0.05610146, -0.03914932])"
      ]
     },
     "execution_count": 472,
     "metadata": {},
     "output_type": "execute_result"
    }
   ],
   "source": [
    "stats.skew(thetas, axis=0)"
   ]
  },
  {
   "cell_type": "code",
   "execution_count": 485,
   "id": "814b02b1",
   "metadata": {},
   "outputs": [
    {
     "data": {
      "text/plain": [
       "(4998, 4)"
      ]
     },
     "execution_count": 485,
     "metadata": {},
     "output_type": "execute_result"
    }
   ],
   "source": [
    "thetas.shape"
   ]
  },
  {
   "cell_type": "code",
   "execution_count": null,
   "id": "ff15e1f3",
   "metadata": {},
   "outputs": [],
   "source": [
    "stats.kurtosis()"
   ]
  },
  {
   "cell_type": "code",
   "execution_count": 432,
   "id": "ae634e8a",
   "metadata": {},
   "outputs": [],
   "source": [
    "a123, eigs, vecs, K = asym(xs[:,0], ys[:, 0])"
   ]
  },
  {
   "cell_type": "code",
   "execution_count": 433,
   "id": "22d4c89a",
   "metadata": {},
   "outputs": [],
   "source": [
    "Rmtx = np.array([[vecs[0,0], -vecs[1,0]],[vecs[1,0], vecs[0,0]]])"
   ]
  },
  {
   "cell_type": "code",
   "execution_count": 434,
   "id": "6b91c772",
   "metadata": {},
   "outputs": [],
   "source": [
    "xi, yi = xs[:, 0] - np.average(xs[:, 0]), ys[:, 0] - np.average(ys[:, 0])\n",
    "xy = np.concatenate((xi.reshape((-1,1)), yi.reshape((-1,1))), axis=1)"
   ]
  },
  {
   "cell_type": "code",
   "execution_count": 435,
   "id": "777cdd47",
   "metadata": {},
   "outputs": [],
   "source": [
    "xy_r = np.matmul(xy, Rmtx)"
   ]
  },
  {
   "cell_type": "code",
   "execution_count": 436,
   "id": "2931fce6",
   "metadata": {},
   "outputs": [
    {
     "data": {
      "text/plain": [
       "[<matplotlib.lines.Line2D at 0x278c98567c0>]"
      ]
     },
     "execution_count": 436,
     "metadata": {},
     "output_type": "execute_result"
    },
    {
     "data": {
      "image/png": "[encoded data removed]",
      "text/plain": [
       "<Figure size 432x288 with 1 Axes>"
      ]
     },
     "metadata": {
      "needs_background": "light"
     },
     "output_type": "display_data"
    }
   ],
   "source": [
    "plt.plot(xs[:, 0], ys[:, 0])\n",
    "plt.plot(xy_r[:, 0], xy_r[:, 1])"
   ]
  },
  {
   "cell_type": "code",
   "execution_count": 437,
   "id": "ea5b050c",
   "metadata": {},
   "outputs": [],
   "source": [
    "dxy_r = np.diff(xy_r, axis=0)"
   ]
  },
  {
   "cell_type": "code",
   "execution_count": 481,
   "id": "3570c3c2",
   "metadata": {},
   "outputs": [],
   "source": [
    "dist = np.linalg.norm(dxy_r, axis=1)"
   ]
  },
  {
   "cell_type": "code",
   "execution_count": 484,
   "id": "d4baa71f",
   "metadata": {},
   "outputs": [
    {
     "data": {
      "text/plain": [
       "(4999, 2)"
      ]
     },
     "execution_count": 484,
     "metadata": {},
     "output_type": "execute_result"
    }
   ],
   "source": [
    "dxy_r.shape"
   ]
  },
  {
   "cell_type": "code",
   "execution_count": 439,
   "id": "fb8c2b2c",
   "metadata": {},
   "outputs": [],
   "source": [
    "thetas = np.arctan2(dxy_r[:,1], dxy_r[:,0])\n",
    "thetas = np.diff(thetas, axis=0)\n",
    "thetas[thetas > np.pi] = thetas[thetas > np.pi] - 2*np.pi\n",
    "thetas[thetas < -np.pi] = thetas[thetas < -np.pi] + 2*np.pi"
   ]
  },
  {
   "cell_type": "code",
   "execution_count": 440,
   "id": "1afe5a2b",
   "metadata": {},
   "outputs": [],
   "source": [
    "bins = np.linspace(-np.pi, np.pi, 61)\n",
    "w = bins[1] - bins[0]\n",
    "hist, _ = np.histogram(thetas, bins)\n",
    "#hist, _ = np.histogram(thetas, bins, weights=dist)"
   ]
  },
  {
   "cell_type": "code",
   "execution_count": 441,
   "id": "e4df221f",
   "metadata": {},
   "outputs": [
    {
     "data": {
      "text/plain": [
       "<BarContainer object of 60 artists>"
      ]
     },
     "execution_count": 441,
     "metadata": {},
     "output_type": "execute_result"
    },
    {
     "data": {
      "image/png": "[encoded data removed]",
      "text/plain": [
       "<Figure size 432x288 with 1 Axes>"
      ]
     },
     "metadata": {
      "needs_background": "light"
     },
     "output_type": "display_data"
    }
   ],
   "source": [
    "plt.bar(bins[1:], hist, width=0.8*w)"
   ]
  },
  {
   "cell_type": "code",
   "execution_count": 442,
   "id": "1c06cebc",
   "metadata": {},
   "outputs": [],
   "source": [
    "qis = np.arange(0.005, 1, 0.005)\n",
    "qs = np.percentile(thetas, qis*100)\n",
    "qsUni = uniform.ppf(qis, loc=-np.pi/2, scale=np.pi)"
   ]
  },
  {
   "cell_type": "code",
   "execution_count": 443,
   "id": "e3245f73",
   "metadata": {},
   "outputs": [
    {
     "data": {
      "text/plain": [
       "[<matplotlib.lines.Line2D at 0x278ca970b50>]"
      ]
     },
     "execution_count": 443,
     "metadata": {},
     "output_type": "execute_result"
    },
    {
     "data": {
      "image/png": "[encoded data removed]",
      "text/plain": [
       "<Figure size 432x288 with 1 Axes>"
      ]
     },
     "metadata": {
      "needs_background": "light"
     },
     "output_type": "display_data"
    }
   ],
   "source": [
    "plt.plot(qs, qsUni)"
   ]
  },
  {
   "cell_type": "code",
   "execution_count": 444,
   "id": "12ceebd8",
   "metadata": {},
   "outputs": [],
   "source": [
    "r, _ = stats.pearsonr(qs, qsUni)"
   ]
  },
  {
   "cell_type": "code",
   "execution_count": 445,
   "id": "8b28a710",
   "metadata": {},
   "outputs": [],
   "source": [
    "n = qis.shape[0]\n",
    "std = np.std(thetas, ddof=1)\n",
    "stdUni = uniform.std(loc=-np.pi, scale=2*np.pi)"
   ]
  },
  {
   "cell_type": "code",
   "execution_count": 446,
   "id": "af1e4820",
   "metadata": {},
   "outputs": [
    {
     "data": {
      "text/plain": [
       "2.146801450971321"
      ]
     },
     "execution_count": 446,
     "metadata": {},
     "output_type": "execute_result"
    }
   ],
   "source": [
    "np.sum((qs/std)**4/n) - np.sum((qsUni/stdUni)**4/n) "
   ]
  },
  {
   "cell_type": "code",
   "execution_count": 387,
   "id": "2c15fa76",
   "metadata": {},
   "outputs": [
    {
     "data": {
      "text/plain": [
       "199"
      ]
     },
     "execution_count": 387,
     "metadata": {},
     "output_type": "execute_result"
    }
   ],
   "source": [
    "n"
   ]
  },
  {
   "cell_type": "code",
   "execution_count": 486,
   "id": "568293a0",
   "metadata": {},
   "outputs": [],
   "source": [
    "steps, N = xs.shape\n",
    "xy = np.concatenate((xs.reshape((steps,N,1)), ys.reshape((steps,N,1))), axis=2)\n",
    "dxy = np.diff(xy, axis=0)\n",
    "\n",
    "thetas = np.arctan2(dxy[:,:,1], dxy[:,:,0])\n",
    "thetas = np.diff(thetas, axis=0)\n",
    "thetas[thetas > np.pi] = thetas[thetas > np.pi] - 2*np.pi\n",
    "thetas[thetas < -np.pi] = thetas[thetas < -np.pi] + 2*np.pi\n",
    "\n",
    "#     qis = np.arange(0.005, 1, 0.005)\n",
    "#     qs = np.percentile(thetas, qis*100, axis=0)\n",
    "#     qsUni = uniform.ppf(qis, loc=-np.pi/2, scale=np.pi)\n",
    "#     n = qis.shape[0]\n",
    "#     std = np.std(thetas, ddof=1, axis=0)\n",
    "#     stdUni = uniform.std(loc=-np.pi, scale=2*np.pi)\n",
    "\n",
    "#return np.average(thetas, axis=0), np.std(thetas, ddof=1, axis=0), stats.skew(thetas, axis=0), stats.kurtosis(thetas, axis=0)"
   ]
  },
  {
   "cell_type": "code",
   "execution_count": 487,
   "id": "bb576fa7",
   "metadata": {},
   "outputs": [
    {
     "data": {
      "text/plain": [
       "(4999, 4, 2)"
      ]
     },
     "execution_count": 487,
     "metadata": {},
     "output_type": "execute_result"
    }
   ],
   "source": [
    "dxy.shape"
   ]
  },
  {
   "cell_type": "code",
   "execution_count": 488,
   "id": "8e395a43",
   "metadata": {},
   "outputs": [
    {
     "data": {
      "text/plain": [
       "(4999, 4)"
      ]
     },
     "execution_count": 488,
     "metadata": {},
     "output_type": "execute_result"
    }
   ],
   "source": [
    "np.linalg.norm(dxy, axis=2).shape"
   ]
  },
  {
   "cell_type": "code",
   "execution_count": null,
   "id": "b97ab8dd",
   "metadata": {},
   "outputs": [],
   "source": []
  }
 ],
 "metadata": {
  "kernelspec": {
   "display_name": "Python (base)",
   "language": "python",
   "name": "base"
  },
  "language_info": {
   "codemirror_mode": {
    "name": "ipython",
    "version": 3
   },
   "file_extension": ".py",
   "mimetype": "text/x-python",
   "name": "python",
   "nbconvert_exporter": "python",
   "pygments_lexer": "ipython3",
   "version": "3.8.8"
  }
 },
 "nbformat": 4,
 "nbformat_minor": 5
}
