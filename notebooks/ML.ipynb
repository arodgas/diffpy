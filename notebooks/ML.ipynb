{
 "cells": [
  {
   "cell_type": "code",
   "execution_count": 39,
   "id": "d1e46992",
   "metadata": {},
   "outputs": [],
   "source": [
    "import sys\n",
    "import os\n",
    "sys.path.insert(0, os.path.abspath('..\\\\diffpy'))\n",
    "import numpy as np\n",
    "import matplotlib.pyplot as plt\n",
    "from features import *\n",
    "import pandas as pd\n",
    "import trajectories as traj\n",
    "import msds as msds\n",
    "import warnings\n",
    "warnings.simplefilter(action='ignore', category=FutureWarning)"
   ]
  },
  {
   "cell_type": "code",
   "execution_count": 55,
   "id": "24ca9aa4",
   "metadata": {},
   "outputs": [],
   "source": [
    "bins = [np.arange(-300,301,30)]\n",
    "\n",
    "x1, y1 = traj.walks2D(steps=100, N=1000, startrange=(-200,200))\n",
    "M1, ft1, mft1, sft1 = calculateFeatures(x1, y1, 0.01, labelled=1, binned=bins)\n",
    "\n",
    "x2, y2 = traj.walks2D(steps=100, N=1000, drift=(1.0, 1.0), theta=30, startrange=(-200,200))\n",
    "M2, ft2, mft2, sft2 = calculateFeatures(x2, y2, 0.01, labelled=2, binned=bins)\n",
    "\n",
    "x3, y3 = traj.walks2D(scale=(5.0, 5.0), steps=100, N=1000, startrange=(-200,200))\n",
    "M3, ft3, mft3, sft3 = calculateFeatures(x3, y3, 0.01, labelled=3, binned=bins)\n",
    "\n",
    "x4, y4 = traj.walks2D(steps=100, N=1000, drift=(2.0, 2.0), theta=30, startrange=(-200,200))\n",
    "M4, ft4, mft4, sft4 = calculateFeatures(x4, y4, 0.01, labelled=4, binned=bins)\n",
    "\n",
    "x5, y5 = traj.walks2D(steps=100, N=1000, startrange=(-200,200), circles=(0.4, 8))\n",
    "M5, ft5, mft5, sft5 = calculateFeatures(x5, y5, 0.01, labelled=5, binned=bins)\n",
    "\n",
    "x6, y6 = traj.walks2D(steps=100, N=1000, startrange=(-200,200), circles=(0.7, 8))\n",
    "M6, ft6, mft6, sft6 = calculateFeatures(x6, y6, 0.01, labelled=6, binned=bins)"
   ]
  },
  {
   "cell_type": "code",
   "execution_count": 56,
   "id": "64648ac9",
   "metadata": {},
   "outputs": [],
   "source": [
    "mfts = pd.concat((mft1, mft2, mft3, mft4, mft5, mft6), ignore_index=True)\n",
    "sfts = pd.concat((sft1, sft2, sft3, sft4, sft5, sft6), ignore_index=True)"
   ]
  },
  {
   "cell_type": "code",
   "execution_count": 57,
   "id": "3274b9f5",
   "metadata": {},
   "outputs": [],
   "source": [
    "y = mfts['Label'].to_numpy()"
   ]
  },
  {
   "cell_type": "code",
   "execution_count": 58,
   "id": "d313b909",
   "metadata": {},
   "outputs": [],
   "source": [
    "mfts.drop(labels=['x', 'y', 'Label'], axis=1, inplace=True)\n",
    "sfts.drop(labels=['x', 'y', 'Label'], axis=1, inplace=True)"
   ]
  },
  {
   "cell_type": "code",
   "execution_count": 59,
   "id": "d26302e7",
   "metadata": {},
   "outputs": [],
   "source": [
    "fts = pd.concat((mfts, sfts), axis=1, keys=['Mean', 'Std'])\n",
    "X = fts.to_numpy()"
   ]
  },
  {
   "cell_type": "code",
   "execution_count": 60,
   "id": "89daa812",
   "metadata": {},
   "outputs": [],
   "source": [
    "from sklearn.model_selection import train_test_split\n",
    "from sklearn.preprocessing import StandardScaler\n",
    "from sklearn.datasets import make_moons, make_circles, make_classification\n",
    "from sklearn.neural_network import MLPClassifier\n",
    "from sklearn.neighbors import KNeighborsClassifier\n",
    "from sklearn.svm import SVC\n",
    "from sklearn.gaussian_process import GaussianProcessClassifier\n",
    "from sklearn.gaussian_process.kernels import RBF\n",
    "from sklearn.tree import DecisionTreeClassifier\n",
    "from sklearn.ensemble import RandomForestClassifier, AdaBoostClassifier\n",
    "from sklearn.naive_bayes import GaussianNB\n",
    "from sklearn.discriminant_analysis import QuadraticDiscriminantAnalysis\n",
    "from sklearn.decomposition import PCA\n",
    "from sklearn.pipeline import Pipeline\n",
    "from sklearn.impute import SimpleImputer"
   ]
  },
  {
   "cell_type": "code",
   "execution_count": 61,
   "id": "c70f7f69",
   "metadata": {},
   "outputs": [],
   "source": [
    "names = [\n",
    "    \"Nearest Neighbors\",\n",
    "    \"Linear SVM\",\n",
    "    \"RBF SVM\",\n",
    "    #\"Gaussian Process\",\n",
    "    \"Decision Tree\",\n",
    "    \"Random Forest\",\n",
    "    \"Neural Net\",\n",
    "    \"AdaBoost\",\n",
    "    \"Naive Bayes\",\n",
    "    \"QDA\",\n",
    "]\n",
    "\n",
    "classifiers = [\n",
    "    KNeighborsClassifier(3),\n",
    "    SVC(kernel=\"linear\", C=0.025),\n",
    "    SVC(gamma=2, C=1),\n",
    "    #GaussianProcessClassifier(1.0 * RBF(1.0)),\n",
    "    DecisionTreeClassifier(max_depth=5),\n",
    "    RandomForestClassifier(max_depth=5, n_estimators=10, max_features=1),\n",
    "    MLPClassifier(alpha=1, max_iter=1000),\n",
    "    AdaBoostClassifier(),\n",
    "    GaussianNB(),\n",
    "    QuadraticDiscriminantAnalysis(),\n",
    "]"
   ]
  },
  {
   "cell_type": "code",
   "execution_count": 62,
   "id": "4d8be5d0",
   "metadata": {},
   "outputs": [],
   "source": [
    "X_train, X_test, y_train, y_test = train_test_split(fts, y, test_size=0.4, random_state=42)"
   ]
  },
  {
   "cell_type": "code",
   "execution_count": 63,
   "id": "397c2abd",
   "metadata": {},
   "outputs": [
    {
     "name": "stdout",
     "output_type": "stream",
     "text": [
      "Nearest Neighbors: 0.9026915113871635\n",
      "Linear SVM: 0.9627329192546584\n",
      "RBF SVM: 0.494824016563147\n",
      "Decision Tree: 0.9979296066252588\n",
      "Random Forest: 0.9813664596273292\n",
      "Neural Net: 0.9875776397515528\n",
      "AdaBoost: 0.4865424430641822\n",
      "Naive Bayes: 0.9875776397515528\n",
      "QDA: 0.9958592132505176\n"
     ]
    },
    {
     "name": "stderr",
     "output_type": "stream",
     "text": [
      "C:\\ProgramData\\Anaconda3\\lib\\site-packages\\sklearn\\discriminant_analysis.py:878: UserWarning: Variables are collinear\n",
      "  warnings.warn(\"Variables are collinear\")\n"
     ]
    }
   ],
   "source": [
    "for name, clf in zip(names, classifiers):\n",
    "    pipe = Pipeline([('imputer', SimpleImputer(missing_values=np.nan, strategy='mean')), ('scaler', StandardScaler()),# ('pca', PCA(n_components=5)),\n",
    "                 (name, clf)])\n",
    "    pipe.fit(X_train, y_train)\n",
    "    score = pipe.score(X_test, y_test)\n",
    "    print('{}: {}'.format(name, score))"
   ]
  },
  {
   "cell_type": "code",
   "execution_count": 64,
   "id": "91435228",
   "metadata": {},
   "outputs": [],
   "source": [
    "fts1 = pd.concat((ft1, ft2, ft3, ft4, ft5, ft6))"
   ]
  },
  {
   "cell_type": "code",
   "execution_count": 65,
   "id": "1ceaa55c",
   "metadata": {},
   "outputs": [],
   "source": [
    "X, y = fts1.to_numpy()[:, 2:-2], fts1['Label'].to_numpy()\n",
    "X_train, X_test, y_train, y_test = train_test_split(X, y, test_size=0.4, random_state=42)"
   ]
  },
  {
   "cell_type": "code",
   "execution_count": 66,
   "id": "fdb0f09e",
   "metadata": {},
   "outputs": [
    {
     "name": "stdout",
     "output_type": "stream",
     "text": [
      "Nearest Neighbors: 0.8383333333333334\n",
      "Linear SVM: 0.8733333333333333\n",
      "RBF SVM: 0.8579166666666667\n",
      "Decision Tree: 0.9895833333333334\n",
      "Random Forest: 0.89625\n",
      "Neural Net: 0.9766666666666667\n",
      "AdaBoost: 0.4845833333333333\n",
      "Naive Bayes: 0.9854166666666667\n",
      "QDA: 0.9979166666666667\n"
     ]
    },
    {
     "name": "stderr",
     "output_type": "stream",
     "text": [
      "C:\\ProgramData\\Anaconda3\\lib\\site-packages\\sklearn\\discriminant_analysis.py:878: UserWarning: Variables are collinear\n",
      "  warnings.warn(\"Variables are collinear\")\n"
     ]
    }
   ],
   "source": [
    "for name, clf in zip(names, classifiers):\n",
    "    pipe = Pipeline([('imputer', SimpleImputer(missing_values=np.nan, strategy='mean')), ('scaler', StandardScaler()),# ('pca', PCA(n_components=5)),\n",
    "                 (name, clf)])\n",
    "    pipe.fit(X_train, y_train)\n",
    "    score = pipe.score(X_test, y_test)\n",
    "    print('{}: {}'.format(name, score))"
   ]
  },
  {
   "cell_type": "code",
   "execution_count": null,
   "id": "31898963",
   "metadata": {},
   "outputs": [],
   "source": []
  }
 ],
 "metadata": {
  "kernelspec": {
   "display_name": "Python 3",
   "language": "python",
   "name": "python3"
  },
  "language_info": {
   "codemirror_mode": {
    "name": "ipython",
    "version": 3
   },
   "file_extension": ".py",
   "mimetype": "text/x-python",
   "name": "python",
   "nbconvert_exporter": "python",
   "pygments_lexer": "ipython3",
   "version": "3.8.8"
  }
 },
 "nbformat": 4,
 "nbformat_minor": 5
}
