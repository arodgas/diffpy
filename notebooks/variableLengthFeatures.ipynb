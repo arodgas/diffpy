{
 "cells": [
  {
   "cell_type": "code",
   "execution_count": 1,
   "id": "b9ae4091",
   "metadata": {},
   "outputs": [],
   "source": [
    "import sys\n",
    "import os\n",
    "sys.path.insert(0, os.path.abspath('..\\\\diffpy'))\n",
    "import numpy as np\n",
    "import matplotlib.pyplot as plt\n",
    "from features import *\n",
    "import pandas as pd\n",
    "import trajectories as traj\n",
    "import msds as msds\n",
    "import numpy.ma as ma"
   ]
  },
  {
   "cell_type": "code",
   "execution_count": 2,
   "id": "a0c66333",
   "metadata": {},
   "outputs": [],
   "source": [
    "xs, ys = traj.walks2D(steps=100, N=10, masked=True)\n",
    "Ms, Gs = msds.trajsMSD(xs, ys)\n",
    "dt = 0.1\n",
    "\n",
    "n, _ = xs.shape\n",
    "# Modified for arrays that have NaNs\n",
    "mask = xs > -10000\n",
    "cutoff = n*np.average(mask, axis=0)\n",
    "n = cutoff.astype(np.int32) - 1"
   ]
  },
  {
   "cell_type": "code",
   "execution_count": 3,
   "id": "78bed7ab",
   "metadata": {},
   "outputs": [
    {
     "data": {
      "text/plain": [
       "(array([0.8238217 , 0.87849051, 0.35495404, 0.08587866, 0.95599479,\n",
       "        0.97642373, 0.97594393, 0.80709978, 0.94141451, 0.57351671]),\n",
       " array([0.22002821, 0.17993394, 0.50329459, 0.73941184, 0.1060671 ,\n",
       "        0.07723075, 0.07802218, 0.23135641, 0.12284864, 0.37162328]),\n",
       " array([0.22860382, 0.27643825, 0.05613213, 0.01128555, 0.39541657,\n",
       "        0.45711494, 0.45527388, 0.21669997, 0.36402215, 0.11086437]),\n",
       " array([1.47322335, 1.31266915, 1.67576141, 2.02620076, 2.35507632,\n",
       "        1.51562943, 2.95195789, 2.14423954, 2.87654109, 2.40008849]))"
      ]
     },
     "execution_count": 3,
     "metadata": {},
     "output_type": "execute_result"
    }
   ],
   "source": [
    "asyms(xs, ys)"
   ]
  },
  {
   "cell_type": "code",
   "execution_count": null,
   "id": "2b17513e",
   "metadata": {},
   "outputs": [],
   "source": [
    "efficiencies(xs, ys)"
   ]
  },
  {
   "cell_type": "code",
   "execution_count": null,
   "id": "97828a77",
   "metadata": {},
   "outputs": [],
   "source": [
    "netD = (xs[-1, :] - xs[0, :])**2 + (ys[-1, :] - ys[0, :])**2\n",
    "total = np.sum(np.diff(xs, axis=0)**2 + np.diff(ys, axis=0)**2, axis=0)"
   ]
  },
  {
   "cell_type": "code",
   "execution_count": null,
   "id": "8b397c68",
   "metadata": {},
   "outputs": [],
   "source": [
    "np.diag(xs[n, :])"
   ]
  },
  {
   "cell_type": "code",
   "execution_count": null,
   "id": "d395c856",
   "metadata": {},
   "outputs": [],
   "source": [
    "n, _ = Ms.shape\n",
    "# Modified for arrays that have NaNs\n",
    "mask = Ms > -10000\n",
    "cutoff = n*np.average(mask, axis=0)\n",
    "n = cutoff\n",
    "Ds = (Ms[1, :] - Ms[0, :])/4\n",
    "rs = np.sqrt(np.max(np.diff(xs, axis=0)**2 + np.diff(ys, axis=0)**2, axis=0))/2"
   ]
  },
  {
   "cell_type": "code",
   "execution_count": null,
   "id": "0c5cdeb0",
   "metadata": {},
   "outputs": [],
   "source": [
    "Ds"
   ]
  },
  {
   "cell_type": "code",
   "execution_count": null,
   "id": "43e46711",
   "metadata": {},
   "outputs": [],
   "source": [
    "n, N = Ms.shape\n",
    "mask = Ms > -10000\n",
    "cutoff = n*np.average(mask, axis=0)\n",
    "\n",
    "#Ms[:int(cutoff[0]), 0]"
   ]
  },
  {
   "cell_type": "code",
   "execution_count": null,
   "id": "652dbf4a",
   "metadata": {},
   "outputs": [],
   "source": [
    "a1, a2, a3, Ks = asyms(xs, ys)"
   ]
  },
  {
   "cell_type": "code",
   "execution_count": null,
   "id": "09786ed6",
   "metadata": {},
   "outputs": [],
   "source": [
    "Ds, alphas = anomModelN(Ms, dt)"
   ]
  },
  {
   "cell_type": "code",
   "execution_count": null,
   "id": "786f24dc",
   "metadata": {},
   "outputs": [],
   "source": [
    "n = xs[:, 0].shape[0]\n",
    "mask = xs[:, 0] > -10000\n",
    "cutoff = n*np.average(mask)"
   ]
  },
  {
   "cell_type": "code",
   "execution_count": null,
   "id": "1f6de238",
   "metadata": {},
   "outputs": [],
   "source": [
    "aspectRatios(xs, ys)"
   ]
  },
  {
   "cell_type": "code",
   "execution_count": null,
   "id": "f9e4ac7c",
   "metadata": {},
   "outputs": [],
   "source": [
    "cutoff"
   ]
  },
  {
   "cell_type": "code",
   "execution_count": null,
   "id": "99f39c63",
   "metadata": {},
   "outputs": [],
   "source": [
    "n, N = xs.shape\n",
    "Nxy, nxy = np.meshgrid(np.linspace(0, N-1, N), np.linspace(0, n-1, n))\n",
    "cutoff = np.tile(np.random.randint(low=20, high=n, size=(1, N)), (n, 1))\n",
    "mask = nxy > cutoff"
   ]
  },
  {
   "cell_type": "code",
   "execution_count": null,
   "id": "dc6571cb",
   "metadata": {},
   "outputs": [],
   "source": [
    "xs, ys = ma.array(xs, mask=mask), ma.array(ys, mask=mask)"
   ]
  },
  {
   "cell_type": "code",
   "execution_count": null,
   "id": "086422ad",
   "metadata": {},
   "outputs": [],
   "source": [
    "cutoff[0, 0:20]"
   ]
  },
  {
   "cell_type": "code",
   "execution_count": null,
   "id": "598e28ba",
   "metadata": {},
   "outputs": [],
   "source": [
    "n-1 - n*np.average(mask, axis=0)"
   ]
  },
  {
   "cell_type": "code",
   "execution_count": null,
   "id": "61cfb60f",
   "metadata": {},
   "outputs": [],
   "source": [
    "type(xs) == type(ma.array([0], mask=['False']))"
   ]
  },
  {
   "cell_type": "code",
   "execution_count": null,
   "id": "9e465f1d",
   "metadata": {},
   "outputs": [],
   "source": [
    "xs.copy()"
   ]
  },
  {
   "cell_type": "code",
   "execution_count": null,
   "id": "35ede777",
   "metadata": {},
   "outputs": [],
   "source": [
    "x, y = xs.copy(), ys.copy()\n",
    "steps, N = x.shape\n",
    "mx1, mx2 = np.zeros((steps, steps, N)), np.zeros((steps, steps, N))\n",
    "my1, my2 = np.zeros((steps, steps, N)), np.zeros((steps, steps, N))\n",
    "\n",
    "for i in range(N):\n",
    "    mx1[:, :, i], mx2[:, :, i] = np.meshgrid(x[:, i], x[:, i])\n",
    "    my1[:, :, i], my2[:, :, i] = np.meshgrid(y[:, i], y[:, i])\n",
    "\n",
    "\n",
    "# mmsd = (mx1 - mx2)**2 + (my1 - my2)**2\n",
    "# mmsddiag = np.ones((steps-1, steps-1, N))*np.nan\n",
    "\n",
    "# mgaus = (mx1 - mx2)**4 + (my1 - my2)**4\n",
    "# mgausdiag = np.ones((steps-1, steps-1, N))*np.nan\n",
    "\n",
    "# for i in range(1, steps):\n",
    "#     mmsddiag[i-1, i-1:, :] = np.transpose(np.diagonal(mmsd, offset=i))\n",
    "#     mgausdiag[i-1, i-1:, :] = np.transpose(np.diagonal(mgaus, offset=i))\n",
    "\n",
    "# msds = np.nanmean(mmsddiag, axis=1)\n",
    "# gauss = 2*np.nanmean(mgausdiag, axis=1)/(3*msds**2) - 1"
   ]
  },
  {
   "cell_type": "code",
   "execution_count": null,
   "id": "f31fac3b",
   "metadata": {},
   "outputs": [],
   "source": [
    "test1, test2 = np.meshgrid(xs, xs)"
   ]
  },
  {
   "cell_type": "code",
   "execution_count": null,
   "id": "e6139d0c",
   "metadata": {},
   "outputs": [],
   "source": [
    "x"
   ]
  },
  {
   "cell_type": "code",
   "execution_count": null,
   "id": "c7dd18fb",
   "metadata": {},
   "outputs": [],
   "source": []
  }
 ],
 "metadata": {
  "kernelspec": {
   "display_name": "Python (base)",
   "language": "python",
   "name": "base"
  },
  "language_info": {
   "codemirror_mode": {
    "name": "ipython",
    "version": 3
   },
   "file_extension": ".py",
   "mimetype": "text/x-python",
   "name": "python",
   "nbconvert_exporter": "python",
   "pygments_lexer": "ipython3",
   "version": "3.8.8"
  }
 },
 "nbformat": 4,
 "nbformat_minor": 5
}
